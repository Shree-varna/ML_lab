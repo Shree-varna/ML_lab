{
  "nbformat": 4,
  "nbformat_minor": 0,
  "metadata": {
    "colab": {
      "provenance": []
    },
    "kernelspec": {
      "name": "python3",
      "display_name": "Python 3"
    },
    "language_info": {
      "name": "python"
    }
  },
  "cells": [
    {
      "cell_type": "code",
      "execution_count": null,
      "metadata": {
        "id": "xQbFRxshqOxE",
        "colab": {
          "base_uri": "https://localhost:8080/"
        },
        "outputId": "a30788ef-9217-4020-f3fa-0e0d9417e88b"
      },
      "outputs": [
        {
          "output_type": "stream",
          "name": "stdout",
          "text": [
            "=== Accuracy Before PCA ===\n",
            "SVM: 0.8750\n",
            "Logistic Regression: 0.8533\n",
            "Random Forest: 0.8804\n",
            "\n",
            "=== Accuracy After PCA (2 components) ===\n",
            "SVM: 0.8261\n",
            "Logistic Regression: 0.8043\n",
            "Random Forest: 0.8207\n"
          ]
        }
      ],
      "source": [
        "import pandas as pd\n",
        "from sklearn.preprocessing import LabelEncoder, StandardScaler\n",
        "from sklearn.model_selection import train_test_split\n",
        "from sklearn.svm import SVC\n",
        "from sklearn.linear_model import LogisticRegression\n",
        "from sklearn.ensemble import RandomForestClassifier\n",
        "from sklearn.decomposition import PCA\n",
        "from sklearn.metrics import accuracy_score\n",
        "\n",
        "# Load dataset\n",
        "df = pd.read_csv(\"/content/heart.csv\")  # Use actual path if needed\n",
        "\n",
        "# Label encode binary categorical columns\n",
        "le = LabelEncoder()\n",
        "df[\"Sex\"] = le.fit_transform(df[\"Sex\"])  # M/F -> 1/0\n",
        "df[\"ExerciseAngina\"] = le.fit_transform(df[\"ExerciseAngina\"])  # Y/N -> 1/0\n",
        "\n",
        "# One-hot encode categorical columns with >2 categories\n",
        "df = pd.get_dummies(df, columns=[\"ChestPainType\", \"RestingECG\", \"ST_Slope\"], drop_first=True)\n",
        "\n",
        "# Split features and target\n",
        "X = df.drop(\"HeartDisease\", axis=1)\n",
        "y = df[\"HeartDisease\"]\n",
        "\n",
        "# Scale features\n",
        "scaler = StandardScaler()\n",
        "X_scaled = scaler.fit_transform(X)\n",
        "\n",
        "# Train/test split\n",
        "X_train, X_test, y_train, y_test = train_test_split(X_scaled, y, test_size=0.2, random_state=42)\n",
        "\n",
        "# Define models\n",
        "models = {\n",
        "    \"SVM\": SVC(),\n",
        "    \"Logistic Regression\": LogisticRegression(max_iter=1000),\n",
        "    \"Random Forest\": RandomForestClassifier()\n",
        "}\n",
        "\n",
        "# Train and evaluate models (before PCA)\n",
        "print(\"=== Accuracy Before PCA ===\")\n",
        "for name, model in models.items():\n",
        "    model.fit(X_train, y_train)\n",
        "    acc = accuracy_score(y_test, model.predict(X_test))\n",
        "    print(f\"{name}: {acc:.4f}\")\n",
        "\n",
        "# Apply PCA to reduce dimensions to 2\n",
        "pca = PCA(n_components=2)\n",
        "X_pca = pca.fit_transform(X_scaled)\n",
        "\n",
        "# Split again for PCA-transformed data\n",
        "X_train_pca, X_test_pca, y_train, y_test = train_test_split(X_pca, y, test_size=0.2, random_state=42)\n",
        "\n",
        "# Train and evaluate models (after PCA)\n",
        "print(\"\\n=== Accuracy After PCA (2 components) ===\")\n",
        "for name, model in models.items():\n",
        "    model.fit(X_train_pca, y_train)\n",
        "    acc = accuracy_score(y_test, model.predict(X_test_pca))\n",
        "    print(f\"{name}: {acc:.4f}\")\n"
      ]
    }
  ]
}
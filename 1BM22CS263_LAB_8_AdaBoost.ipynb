{
  "nbformat": 4,
  "nbformat_minor": 0,
  "metadata": {
    "colab": {
      "provenance": []
    },
    "kernelspec": {
      "name": "python3",
      "display_name": "Python 3"
    },
    "language_info": {
      "name": "python"
    }
  },
  "cells": [
    {
      "cell_type": "code",
      "execution_count": null,
      "metadata": {
        "colab": {
          "base_uri": "https://localhost:8080/"
        },
        "id": "-ZSUBIN_gf3F",
        "outputId": "a598cea1-44e0-4c5a-867f-a844b7aa0bcc"
      },
      "outputs": [
        {
          "output_type": "stream",
          "name": "stdout",
          "text": [
            "Accuracy with 10 trees: 0.8276803384972361\n",
            "Confusion Matrix with 10 trees:\n",
            " [[10722   387]\n",
            " [ 2138  1406]]\n",
            "\n",
            "Best Accuracy: 0.830956118201051\n",
            "Best number of trees (n_estimators): 42\n",
            "Best Confusion Matrix:\n",
            " [[10496   613]\n",
            " [ 1864  1680]]\n"
          ]
        }
      ],
      "source": [
        "import pandas as pd\n",
        "from sklearn.model_selection import train_test_split\n",
        "from sklearn.ensemble import AdaBoostClassifier\n",
        "from sklearn.metrics import accuracy_score, confusion_matrix\n",
        "\n",
        "# Load dataset\n",
        "df = pd.read_csv('/content/income.csv')\n",
        "\n",
        "# Features and target\n",
        "X = df.drop('income_level', axis=1)\n",
        "y = df['income_level']\n",
        "\n",
        "# Train-test split\n",
        "X_train, X_test, y_train, y_test = train_test_split(X, y, test_size=0.3, random_state=42)\n",
        "\n",
        "# Step 1: AdaBoost with 10 estimators\n",
        "clf_10 = AdaBoostClassifier(n_estimators=10, random_state=42)\n",
        "clf_10.fit(X_train, y_train)\n",
        "y_pred_10 = clf_10.predict(X_test)\n",
        "acc_10 = accuracy_score(y_test, y_pred_10)\n",
        "\n",
        "print(\"Accuracy with 10 trees:\", acc_10)\n",
        "print(\"Confusion Matrix with 10 trees:\\n\", confusion_matrix(y_test, y_pred_10))\n",
        "\n",
        "# Step 2: Fine-tune number of estimators\n",
        "best_score = 0\n",
        "best_n = 0\n",
        "best_cm = None\n",
        "\n",
        "for n in range(1, 101):\n",
        "    clf = AdaBoostClassifier(n_estimators=n, random_state=42)\n",
        "    clf.fit(X_train, y_train)\n",
        "    y_pred = clf.predict(X_test)\n",
        "    acc = accuracy_score(y_test, y_pred)\n",
        "    if acc > best_score:\n",
        "        best_score = acc\n",
        "        best_n = n\n",
        "        best_cm = confusion_matrix(y_test, y_pred)\n",
        "\n",
        "print(\"\\nBest Accuracy:\", best_score)\n",
        "print(\"Best number of trees (n_estimators):\", best_n)\n",
        "print(\"Best Confusion Matrix:\\n\", best_cm)\n"
      ]
    }
  ]
}
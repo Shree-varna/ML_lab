{
  "nbformat": 4,
  "nbformat_minor": 0,
  "metadata": {
    "colab": {
      "provenance": []
    },
    "kernelspec": {
      "name": "python3",
      "display_name": "Python 3"
    },
    "language_info": {
      "name": "python"
    }
  },
  "cells": [
    {
      "cell_type": "markdown",
      "source": [
        "# IMPORTING  **DATASET**\n"
      ],
      "metadata": {
        "id": "y14-mMs__ux9"
      }
    },
    {
      "cell_type": "code",
      "source": [
        "import pandas as pd\n",
        "data = {\n",
        "    'Name': ['Alice', 'Bob', 'Charlie', 'David'],\n",
        "    'Age': [25, 30, 35, 40],\n",
        "    'City': ['New York', 'Los Angeles', 'Chicago', 'Houston']\n",
        "}\n",
        "df = pd.DataFrame(data)\n",
        "print(\"Sample data:\")\n",
        "print(df.head())\n"
      ],
      "metadata": {
        "colab": {
          "base_uri": "https://localhost:8080/"
        },
        "id": "X_OQkWV257I2",
        "outputId": "79215fea-a13a-48bf-8411-3712378ff1c1"
      },
      "execution_count": null,
      "outputs": [
        {
          "output_type": "stream",
          "name": "stdout",
          "text": [
            "Sample data:\n",
            "      Name  Age         City\n",
            "0    Alice   25     New York\n",
            "1      Bob   30  Los Angeles\n",
            "2  Charlie   35      Chicago\n",
            "3    David   40      Houston\n"
          ]
        }
      ]
    },
    {
      "cell_type": "code",
      "source": [
        "from sklearn.datasets import load_iris\n",
        "\n",
        "iris = load_iris()\n",
        "df = pd.DataFrame(iris.data, columns=iris.feature_names)\n",
        "df['target'] = iris.target\n",
        "print(\"Sample data:\")\n",
        "print(df.head())\n"
      ],
      "metadata": {
        "colab": {
          "base_uri": "https://localhost:8080/"
        },
        "id": "26JN4aUq6wml",
        "outputId": "2969807c-2b95-40af-91a3-7f37c6c79c54"
      },
      "execution_count": null,
      "outputs": [
        {
          "output_type": "stream",
          "name": "stdout",
          "text": [
            "Sample data:\n",
            "   sepal length (cm)  sepal width (cm)  petal length (cm)  petal width (cm)  \\\n",
            "0                5.1               3.5                1.4               0.2   \n",
            "1                4.9               3.0                1.4               0.2   \n",
            "2                4.7               3.2                1.3               0.2   \n",
            "3                4.6               3.1                1.5               0.2   \n",
            "4                5.0               3.6                1.4               0.2   \n",
            "\n",
            "   target  \n",
            "0       0  \n",
            "1       0  \n",
            "2       0  \n",
            "3       0  \n",
            "4       0  \n"
          ]
        }
      ]
    },
    {
      "cell_type": "code",
      "source": [
        "file_path = '/content/data.csv'\n",
        "df = pd.read_csv(file_path)\n",
        "print(\"Sample data:\")\n",
        "print(df.head())\n"
      ],
      "metadata": {
        "colab": {
          "base_uri": "https://localhost:8080/"
        },
        "id": "NT6eVdJz7jgt",
        "outputId": "23c0d3bd-f936-44f7-f4f7-5829e8bdf6fe"
      },
      "execution_count": null,
      "outputs": [
        {
          "output_type": "stream",
          "name": "stdout",
          "text": [
            "Sample data:\n",
            "   ID     Name  Age         City\n",
            "0   1    Alice   25     New York\n",
            "1   2      Bob   30  Los Angeles\n",
            "2   3  Charlie   35      Chicago\n",
            "3   4    David   40      Houston\n",
            "4   5      Eva   28      Phoenix\n"
          ]
        }
      ]
    },
    {
      "cell_type": "code",
      "source": [
        "df = pd.read_csv('/content/Dataset of Diabetes .csv')\n",
        "print(\"Sample data:\")\n",
        "print(df.head())\n"
      ],
      "metadata": {
        "colab": {
          "base_uri": "https://localhost:8080/"
        },
        "id": "Z80rL0Mk9bEF",
        "outputId": "f66ed226-63fa-477d-e08f-0656e3e3dec9"
      },
      "execution_count": null,
      "outputs": [
        {
          "output_type": "stream",
          "name": "stdout",
          "text": [
            "Sample data:\n",
            "    ID  No_Pation Gender  AGE  Urea  Cr  HbA1c  Chol   TG  HDL  LDL  VLDL  \\\n",
            "0  502      17975      F   50   4.7  46    4.9   4.2  0.9  2.4  1.4   0.5   \n",
            "1  735      34221      M   26   4.5  62    4.9   3.7  1.4  1.1  2.1   0.6   \n",
            "2  420      47975      F   50   4.7  46    4.9   4.2  0.9  2.4  1.4   0.5   \n",
            "3  680      87656      F   50   4.7  46    4.9   4.2  0.9  2.4  1.4   0.5   \n",
            "4  504      34223      M   33   7.1  46    4.9   4.9  1.0  0.8  2.0   0.4   \n",
            "\n",
            "    BMI CLASS  \n",
            "0  24.0     N  \n",
            "1  23.0     N  \n",
            "2  24.0     N  \n",
            "3  24.0     N  \n",
            "4  21.0     N  \n"
          ]
        }
      ]
    },
    {
      "cell_type": "markdown",
      "source": [
        "# **EXPORTING DATASET**"
      ],
      "metadata": {
        "id": "ab1t55VnAC4d"
      }
    },
    {
      "cell_type": "code",
      "source": [
        "#Load data from a CSV file into a Pandas DataFrame\n",
        "import pandas as pd\n",
        "df=pd.read_csv(\"/content/data.csv\")\n",
        "print(df.head())"
      ],
      "metadata": {
        "colab": {
          "base_uri": "https://localhost:8080/"
        },
        "id": "GciGcrpSAPl9",
        "outputId": "d7ce4ce1-3859-4a8f-8a97-86cb5f7a3218"
      },
      "execution_count": null,
      "outputs": [
        {
          "output_type": "stream",
          "name": "stdout",
          "text": [
            "   ID     Name  Age         City\n",
            "0   1    Alice   25     New York\n",
            "1   2      Bob   30  Los Angeles\n",
            "2   3  Charlie   35      Chicago\n",
            "3   4    David   40      Houston\n",
            "4   5      Eva   28      Phoenix\n"
          ]
        }
      ]
    },
    {
      "cell_type": "code",
      "source": [
        "#Export a DataFrame back to a CSV file, use the df.to_csv() function:\n",
        "df.to_csv(\"/content/data.csv\",index=False)\n",
        "print(\"Data saved to CSV file\")"
      ],
      "metadata": {
        "colab": {
          "base_uri": "https://localhost:8080/"
        },
        "id": "Q2iFRehiAyp1",
        "outputId": "9d3b9c3d-71c1-4c45-e885-cdc2f7c7f117"
      },
      "execution_count": null,
      "outputs": [
        {
          "output_type": "stream",
          "name": "stdout",
          "text": [
            "Data saved to CSV file\n"
          ]
        }
      ]
    },
    {
      "cell_type": "code",
      "source": [
        "sales_df=pd.read_csv(\"/content/sample_sales_data.csv\")\n",
        "print(\"first few\")\n",
        "print(sales_df.head())"
      ],
      "metadata": {
        "colab": {
          "base_uri": "https://localhost:8080/"
        },
        "id": "_-SOtaKIBu8F",
        "outputId": "c4ee12e1-1e34-4035-a63d-8cc4deb7fc6c"
      },
      "execution_count": null,
      "outputs": [
        {
          "output_type": "stream",
          "name": "stdout",
          "text": [
            "first few\n",
            "    Product  Quantity  Price  Sales Region\n",
            "0    Laptop         5   1000   5000  North\n",
            "1     Mouse        15     20    300   West\n",
            "2  Keyboard        10     50    500   East\n",
            "3   Monitor         8    200   1600  South\n",
            "4    Laptop        12    950  11400  North\n"
          ]
        }
      ]
    },
    {
      "cell_type": "code",
      "source": [
        "# Summarizing sales by Region\n",
        "sales_by_region=sales_df.groupby(\"Region\")[\"Sales\"].sum()\n",
        "print(sales_by_region)"
      ],
      "metadata": {
        "colab": {
          "base_uri": "https://localhost:8080/"
        },
        "id": "z-92VtUcCJ_t",
        "outputId": "f25038e6-2f99-428a-a6fe-e319d09ccf24"
      },
      "execution_count": null,
      "outputs": [
        {
          "output_type": "stream",
          "name": "stdout",
          "text": [
            "Region\n",
            "East       770\n",
            "North    16400\n",
            "South     3070\n",
            "West       650\n",
            "Name: Sales, dtype: int64\n"
          ]
        }
      ]
    },
    {
      "cell_type": "code",
      "source": [
        "# Identify the best saling product:\n",
        "best=sales_df.groupby(\"Product\")[\"Quantity\"].sum().sort_values(ascending=False)\n",
        "print(best)"
      ],
      "metadata": {
        "colab": {
          "base_uri": "https://localhost:8080/"
        },
        "id": "-GBOyqNuCcdE",
        "outputId": "73b632ad-c340-4040-95d6-daf41f45f51e"
      },
      "execution_count": null,
      "outputs": [
        {
          "output_type": "stream",
          "name": "stdout",
          "text": [
            "Product\n",
            "Mouse       29\n",
            "Laptop      17\n",
            "Keyboard    16\n",
            "Monitor     15\n",
            "Name: Quantity, dtype: int64\n"
          ]
        }
      ]
    }
  ]
}
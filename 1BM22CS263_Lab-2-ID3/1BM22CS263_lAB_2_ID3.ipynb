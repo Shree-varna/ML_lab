{
  "nbformat": 4,
  "nbformat_minor": 0,
  "metadata": {
    "colab": {
      "provenance": []
    },
    "kernelspec": {
      "name": "python3",
      "display_name": "Python 3"
    },
    "language_info": {
      "name": "python"
    }
  },
  "cells": [
    {
      "cell_type": "code",
      "source": [
        "import pandas as pd\n",
        "import numpy as np\n",
        "\n",
        "def entropy(target_col):\n",
        "    elements, counts = np.unique(target_col, return_counts=True)\n",
        "    entropy = np.sum([(-counts[i] / np.sum(counts)) * np.log2(counts[i] / np.sum(counts)) for i in range(len(elements))])\n",
        "    return entropy\n",
        "\n",
        "\n",
        "def InfoGain(data, split_attribute_name, target_name=\"class\"):\n",
        "    total_entropy = entropy(data[target_name])\n",
        "    vals, counts = np.unique(data[split_attribute_name], return_counts=True)\n",
        "    weighted_entropy = np.sum([(counts[i] / np.sum(counts)) * entropy(data.where(data[split_attribute_name] == vals[i]).dropna()[target_name]) for i in range(len(vals))])\n",
        "    information_gain = total_entropy - weighted_entropy\n",
        "    return information_gain\n",
        "\n",
        "\n",
        "def ID3(data, originaldata, features, target_attribute_name=\"class\", parent_node_class=None):\n",
        "    if len(np.unique(data[target_attribute_name])) <= 1:\n",
        "        return np.unique(data[target_attribute_name])[0]\n",
        "\n",
        "    elif len(data) == 0:\n",
        "        return np.unique(originaldata[target_attribute_name]) [np.argmax(np.unique(originaldata[target_attribute_name], return_counts=True)[1])]\n",
        "\n",
        "    elif len(features) == 0:\n",
        "        return parent_node_class\n",
        "\n",
        "    else:\n",
        "        parent_node_class = np.unique(data[target_attribute_name])[np.argmax(np.unique(data[target_attribute_name], return_counts=True)[1])]\n",
        "        item_values = [InfoGain(data, feature, target_attribute_name) for feature in features]\n",
        "        best_feature_index = np.argmax(item_values)\n",
        "        best_feature = features[best_feature_index]\n",
        "        tree = {best_feature: {}}\n",
        "        features = [i for i in features if i != best_feature]\n",
        "        for value in np.unique(data[best_feature]):\n",
        "            value = value\n",
        "            sub_data = data.where(data[best_feature] == value).dropna()\n",
        "            subtree = ID3(sub_data, originaldata, features, target_attribute_name, parent_node_class)\n",
        "            tree[best_feature][value] = subtree\n",
        "        return tree\n",
        "\n",
        "# Example usage (replace with your dataset)\n",
        "data = pd.DataFrame({\n",
        "    'outlook': ['sunny', 'sunny', 'overcast', 'rainy', 'rainy', 'rainy', 'overcast', 'sunny', 'sunny', 'rainy', 'sunny', 'overcast', 'overcast', 'rainy'],\n",
        "    'temperature': ['hot', 'hot', 'hot', 'mild', 'cool', 'cool', 'cool', 'mild', 'cool', 'mild', 'mild', 'mild', 'hot', 'mild'],\n",
        "    'humidity': ['high', 'high', 'high', 'high', 'normal', 'normal', 'normal', 'high', 'normal', 'normal', 'normal', 'high', 'normal', 'high'],\n",
        "    'windy': ['false', 'true', 'false', 'false', 'false', 'true', 'true', 'false', 'false', 'false', 'true', 'true', 'false', 'true'],\n",
        "    'class': ['no', 'no', 'yes', 'yes', 'yes', 'no', 'yes', 'no', 'yes', 'yes', 'yes', 'yes', 'yes', 'no']\n",
        "})\n",
        "\n",
        "features = data.columns[:-1]\n",
        "tree = ID3(data, data, features)\n",
        "tree"
      ],
      "metadata": {
        "colab": {
          "base_uri": "https://localhost:8080/"
        },
        "id": "VAdj_JB6G8SS",
        "outputId": "e9e5758e-dad6-4be8-c527-21f61412dbb8"
      },
      "execution_count": 18,
      "outputs": [
        {
          "output_type": "execute_result",
          "data": {
            "text/plain": [
              "{'outlook': {'overcast': 'yes',\n",
              "  'rainy': {'windy': {'false': 'yes', 'true': 'no'}},\n",
              "  'sunny': {'humidity': {'high': 'no', 'normal': 'yes'}}}}"
            ]
          },
          "metadata": {},
          "execution_count": 18
        }
      ]
    },
    {
      "cell_type": "code",
      "source": [
        "import numpy as np\n",
        "import pandas as pd\n",
        "from collections import Counter\n",
        "\n",
        "# Load the weather dataset from Excel file\n",
        "file_path = \"/content/Weather_1.xlsx\"\n",
        "df = pd.read_excel(file_path, sheet_name=\"Sheet1\")\n",
        "\n",
        "def entropy(y):\n",
        "    \"\"\"Calculate entropy of a dataset\"\"\"\n",
        "    counts = np.bincount(pd.factorize(y)[0])\n",
        "    probabilities = counts / len(y)\n",
        "    return -np.sum([p * np.log2(p) for p in probabilities if p > 0])\n",
        "\n",
        "def information_gain(df, feature, target):\n",
        "    \"\"\"Calculate information gain for a given feature\"\"\"\n",
        "    total_entropy = entropy(df[target])\n",
        "    values, counts = np.unique(df[feature], return_counts=True)\n",
        "    weighted_entropy = sum((counts[i] / sum(counts)) * entropy(df[df[feature] == values[i]][target]) for i in range(len(values)))\n",
        "    return total_entropy - weighted_entropy\n",
        "\n",
        "def id3(df, target, features):\n",
        "    \"\"\"Build the decision tree using ID3 algorithm\"\"\"\n",
        "    if len(set(df[target])) == 1:\n",
        "        return df[target].iloc[0]\n",
        "    if not features:\n",
        "        return Counter(df[target]).most_common(1)[0][0]\n",
        "\n",
        "    best_feature = max(features, key=lambda f: information_gain(df, f, target))\n",
        "    tree = {best_feature: {}}\n",
        "\n",
        "    for value in df[best_feature].unique():\n",
        "        subtree = id3(df[df[best_feature] == value], target, [f for f in features if f != best_feature])\n",
        "        tree[best_feature][value] = subtree\n",
        "\n",
        "    return tree\n",
        "\n",
        "def print_tree(tree, indent=\"\"):\n",
        "    \"\"\"Pretty print the decision tree\"\"\"\n",
        "    if isinstance(tree, dict):\n",
        "        for key, value in tree.items():\n",
        "            print(f\"{indent}{key}: {{\")\n",
        "            for subkey, subvalue in value.items():\n",
        "                print(f\"{indent}  {subkey}: {subvalue}\")\n",
        "            print(f\"{indent}}}\")\n",
        "    else:\n",
        "        print(f\"{indent}{tree}\")\n",
        "\n",
        "# Build and print the decision tree\n",
        "decision_tree = id3(df, 'Decision', list(df.columns[:-1]))\n",
        "print_tree(decision_tree)"
      ],
      "metadata": {
        "colab": {
          "base_uri": "https://localhost:8080/"
        },
        "id": "0kUu5I2MKTbC",
        "outputId": "b4f40380-9b65-47f2-c0b8-1dea518c0d8c"
      },
      "execution_count": 19,
      "outputs": [
        {
          "output_type": "stream",
          "name": "stdout",
          "text": [
            "Temp: {\n",
            "  hot : {'OutLook': {'sunny': {'Wind': {'weak': 'No', 'Strong': 'Yes'}}, 'overcast': 'Yes'}}\n",
            "  mild: {'OutLook': {'Rain': {'Wind': {'weak': 'Yes', 'Strong': 'No'}}, 'sunny': 'Yes', 'overcast': 'Yes'}}\n",
            "  cold: {'OutLook': {'Rain': {'Wind': {'weak': 'No', 'Strong': 'Yes'}}, 'overcast': 'No', 'sunny': 'Yes'}}\n",
            "}\n"
          ]
        }
      ]
    }
  ]
}